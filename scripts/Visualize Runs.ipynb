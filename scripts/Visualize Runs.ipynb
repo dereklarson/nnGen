{
 "metadata": {
  "name": ""
 },
 "nbformat": 3,
 "nbformat_minor": 0,
 "worksheets": [
  {
   "cells": [
    {
     "cell_type": "code",
     "collapsed": false,
     "input": [
      "import matplotlib.pyplot as plt\n",
      "import pylab as pl\n",
      "import scipy.io as sio\n",
      "import numpy as np\n",
      "import cPickle as cp\n",
      "import csv, glob, os"
     ],
     "language": "python",
     "metadata": {},
     "outputs": [],
     "prompt_number": 1
    },
    {
     "cell_type": "code",
     "collapsed": false,
     "input": [
      "def data_stats(setname):\n",
      "    data = np.zeros((16,))\n",
      "    for fname in glob.glob(\"Slogs/\" + str(setname) + \"_*\"):\n",
      "        c_data = []\n",
      "        rfile = open(fname, 'r')\n",
      "        for row in rfile:\n",
      "            if not row.startswith(\"#\"):\n",
      "                proc = row.strip().split(\" \")\n",
      "                c_data.append(proc[3])\n",
      "        c_data = np.asarray(c_data, dtype=np.float32)\n",
      "        best = np.min(c_data)\n",
      "        subj_str = fname[14:16]\n",
      "        if subj_str[-1] == \"_\": subj_str = fname[14]\n",
      "        subject = int(subj_str)\n",
      "        data[subject] = best\n",
      "        \n",
      "    data = np.asarray(data)\n",
      "    return data"
     ],
     "language": "python",
     "metadata": {},
     "outputs": [],
     "prompt_number": 10
    },
    {
     "cell_type": "code",
     "collapsed": false,
     "input": [
      "ssdec = (1-data_stats(\"SSALL\")).reshape(-1,1)\n",
      "np.mean(ssdec)"
     ],
     "language": "python",
     "metadata": {},
     "outputs": [
      {
       "metadata": {},
       "output_type": "pyout",
       "prompt_number": 13,
       "text": [
        "0.6976878484711051"
       ]
      }
     ],
     "prompt_number": 13
    },
    {
     "cell_type": "code",
     "collapsed": false,
     "input": [
      "def CV_stats():\n",
      "    data = np.zeros((16))\n",
      "    for fname in glob.glob(\"TCV_SSMS\" + \"_*\"):\n",
      "        c_data = []\n",
      "        rfile = open(fname, 'r')\n",
      "        for row in rfile:\n",
      "            if not row.startswith(\"#\"):\n",
      "                proc = row.strip().split(\" \")\n",
      "                c_data.append(proc[3])\n",
      "        c_data = np.asarray(c_data, dtype=np.float32)\n",
      "        best = np.min(c_data)\n",
      "        subject = int(fname[15:])\n",
      "        data[subject] = best\n",
      "        \n",
      "    data = np.asarray(data)\n",
      "    return data"
     ],
     "language": "python",
     "metadata": {},
     "outputs": [],
     "prompt_number": 22
    },
    {
     "cell_type": "code",
     "collapsed": false,
     "input": [
      "np.mean(CV_stats())"
     ],
     "language": "python",
     "metadata": {},
     "outputs": [
      {
       "metadata": {},
       "output_type": "pyout",
       "prompt_number": 24,
       "text": [
        "0.361328125"
       ]
      }
     ],
     "prompt_number": 24
    },
    {
     "cell_type": "code",
     "collapsed": false,
     "input": [
      "def get_data(logname):\n",
      "    c_data = []\n",
      "    rfile = open(logname, 'r')\n",
      "    for row in rfile:\n",
      "        if not row.startswith(\"#\"):\n",
      "            proc = row.strip().split()\n",
      "            c_data.append(proc)\n",
      "    data = np.asarray(c_data)\n",
      "    err_data = np.asarray(data[:,1:5], dtype=np.float32)\n",
      "    return err_data"
     ],
     "language": "python",
     "metadata": {},
     "outputs": [],
     "prompt_number": 24
    },
    {
     "cell_type": "code",
     "collapsed": false,
     "input": [
      "def proc_data(data_in):\n",
      "    mu = data_in.mean(axis=0)\n",
      "    std = data_in.std(axis=0)\n",
      "    return np.concatenate([np.arange(len(mu)).reshape(-1,1), mu, std], axis=1)"
     ],
     "language": "python",
     "metadata": {},
     "outputs": [],
     "prompt_number": 3
    },
    {
     "cell_type": "code",
     "collapsed": false,
     "input": [
      "%matplotlib inline"
     ],
     "language": "python",
     "metadata": {},
     "outputs": [],
     "prompt_number": 4
    },
    {
     "cell_type": "code",
     "collapsed": false,
     "input": [
      "plot_info = []\n",
      "data2 = proc_data(get_data(\"500l3\", \"0.80\"))\n",
      "plot_info.append({'X': data2[:,0], 'Y': data2[:,2], 'YSTD': data2[:,4], 'label': \"0.80\", 'color': 'b'})\n",
      "data2 = proc_data(get_data(\"500l3\", \"0.90\"))\n",
      "plot_info.append({'X': data2[:,0], 'Y': data2[:,2], 'YSTD': data2[:,4], 'label': \"0.90\", 'color': 'g'})\n",
      "data2 = proc_data(get_data(\"500l3\", \"0.98\"))\n",
      "plot_info.append({'X': data2[:,0], 'Y': data2[:,2], 'YSTD': data2[:,4], 'label': \"0.98\", 'color': 'r'})"
     ],
     "language": "python",
     "metadata": {},
     "outputs": [],
     "prompt_number": 5
    },
    {
     "cell_type": "code",
     "collapsed": false,
     "input": [
      "data2 = get_data(\"test\")\n",
      "X, Y = data2[:,0], data2[:,3]\n",
      "plt.plot(np.log(1+X), Y)\n",
      "\n",
      "plt.legend()\n",
      "plt.axhline(0.09, color='k', linestyle='--')\n",
      "plt.xlabel('Epoch')\n",
      "plt.ylabel('CV classification score (% correct)')\n",
      "plt.show()"
     ],
     "language": "python",
     "metadata": {},
     "outputs": [],
     "prompt_number": 27
    },
    {
     "cell_type": "code",
     "collapsed": false,
     "input": [
      "def gen_plot(X, Y, YSTD, item, show=False):\n",
      "    plt.plot(X, Y, label=item)\n",
      "    plt.axhline(0.50, color='k', linestyle='--',\n",
      "                label=\"Chance level\")\n",
      "    #plt.axvline(0, color='r', label='stim onset')\n",
      "    plt.legend()\n",
      "    hyp_limits = (Y - YSTD, Y + YSTD)\n",
      "    plt.fill_between(X, hyp_limits[0],\n",
      "                     y2=hyp_limits[1], color='b', alpha=0.5)\n",
      "    plt.xlabel('Epoch')\n",
      "    plt.ylabel('CV classification score (% correct)')\n",
      "    #plt.ylim([30, 100])\n",
      "    plt.title('Momentum parameter tests')\n",
      "    if show:\n",
      "        plt.show()\n",
      "    else:\n",
      "        plt.savefig(\"plots/\"+item+\"plot.png\")\n",
      "        plt.clf()"
     ],
     "language": "python",
     "metadata": {},
     "outputs": []
    },
    {
     "cell_type": "code",
     "collapsed": false,
     "input": [
      "#items = [\"0.80\", \"0.90\", \"0.91\", \"0.92\", \"0.93\", \"0.94\", \"0.95\", \"0.98\"]\n",
      "#items = [\"0.020\", \"0.010\", \"0.005\", \"0.002\"]\n",
      "#items = [\"20_\", \"40_\", \"60_\", \"80_\", \"100_\"]\n",
      "#items = [\"100_\", \"200_\", \"300_\", \"400_\", \"500_\"]\n",
      "items = [\"0_\", \"2_\", \"5_\", \"7_\", \"8_\", \"12_\"]\n",
      "for item in items:\n",
      "    data1 = get_data(\"rawMCV\", item)\n",
      "    data2 = proc_data(data1)\n",
      "    #np.savetxt(\"plog_\"+item, data2, fmt='%.5e')\n",
      "    gen_plot(data2[:,0], data2[:,2], data2[:,4], item)"
     ],
     "language": "python",
     "metadata": {},
     "outputs": []
    }
   ],
   "metadata": {}
  }
 ]
}