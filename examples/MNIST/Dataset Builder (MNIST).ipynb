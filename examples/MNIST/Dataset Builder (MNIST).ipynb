{
 "metadata": {
  "name": ""
 },
 "nbformat": 3,
 "nbformat_minor": 0,
 "worksheets": [
  {
   "cells": [
    {
     "cell_type": "code",
     "collapsed": false,
     "input": [
      "import gzip\n",
      "import numpy as np\n",
      "import cPickle as cp"
     ],
     "language": "python",
     "metadata": {},
     "outputs": [],
     "prompt_number": 1
    },
    {
     "cell_type": "code",
     "collapsed": false,
     "input": [
      "in_file = gzip.open(\"mnist.pkl.gz\", 'rb')\n",
      "train, valid, test = cp.load(in_file)"
     ],
     "language": "python",
     "metadata": {},
     "outputs": [],
     "prompt_number": 2
    },
    {
     "cell_type": "code",
     "collapsed": false,
     "input": [
      "data = np.concatenate((train[0], valid[0])).reshape(-1, 1, 28, 28)\n",
      "labels = np.concatenate((train[1], valid[1]))\n",
      "info = {'description': \"MNIST 60k, 1x28x28 with norm [0,1)\", 'cut': 50000, 'channels': 1}"
     ],
     "language": "python",
     "metadata": {},
     "outputs": [],
     "prompt_number": 3
    },
    {
     "cell_type": "code",
     "collapsed": false,
     "input": [
      "cp.dump([info, data, labels], open(\"dataset\", 'wb'), 2)"
     ],
     "language": "python",
     "metadata": {},
     "outputs": [],
     "prompt_number": 4
    },
    {
     "cell_type": "code",
     "collapsed": false,
     "input": [],
     "language": "python",
     "metadata": {},
     "outputs": []
    }
   ],
   "metadata": {}
  }
 ]
}